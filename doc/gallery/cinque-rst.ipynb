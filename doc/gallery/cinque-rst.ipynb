{
 "cells": [
  {
   "cell_type": "markdown",
   "metadata": {
    "nbsphinx": "hidden"
   },
   "source": [
    "This notebook is part of the `nbsphinx` documentation: https://nbsphinx.readthedocs.io/."
   ]
  },
  {
   "cell_type": "markdown",
   "metadata": {},
   "source": [
    "# Dummy Notebook 5 for Gallery\n",
    "\n",
    "This is another dummy file to fill\n",
    "[the gallery in the reST file](../a-normal-rst-file.rst#thumbnail-galleries).\n",
    "\n",
    "The thumbnail image is assigned in [conf.py](../conf.py)."
   ]
  },
  {
   "cell_type": "markdown",
   "metadata": {},
   "source": [
    "This page has a secondary use, though,\n",
    "which is testing whether a single inline math equation works\n",
    "(if there is no other math on the same page): $\\text{e}^{i\\pi} = -1$."
   ]
  }
 ],
 "metadata": {
  "kernelspec": {
   "display_name": "Python 3",
   "language": "python",
   "name": "python3"
  },
  "language_info": {
   "codemirror_mode": {
    "name": "ipython",
    "version": 3
   },
   "file_extension": ".py",
   "mimetype": "text/x-python",
   "name": "python",
   "nbconvert_exporter": "python",
   "pygments_lexer": "ipython3",
   "version": "3.7.6"
  }
 },
 "nbformat": 4,
 "nbformat_minor": 4
}
